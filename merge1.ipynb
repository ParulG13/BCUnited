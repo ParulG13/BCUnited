{
 "cells": [
  {
   "cell_type": "code",
   "execution_count": 1,
   "metadata": {},
   "outputs": [],
   "source": [
    "import matplotlib.pyplot as plt\n",
    "import pandas as pd\n",
    "import numpy as np\n",
    "import os\n",
    "from matplotlib.ticker import StrMethodFormatter\n",
    "import seaborn as sns\n",
    "\n",
    "# for converting currency to int\n",
    "from decimal import Decimal\n",
    "from re import sub\n",
    "\n",
    "import requests\n",
    "import json\n",
    "\n",
    "# Google developer API key\n",
    "from config import gkey\n",
    "\n",
    "import gmaps\n",
    "# Access maps with unique API key\n",
    "gmaps.configure(api_key=gkey)"
   ]
  },
  {
   "cell_type": "code",
   "execution_count": 2,
   "metadata": {},
   "outputs": [],
   "source": [
    "#input_file = \"data.csv\"\n",
    "input_file= os.path.join('Resources','data.csv')\n",
    "data_df = pd.read_csv(input_file)"
   ]
  },
  {
   "cell_type": "code",
   "execution_count": 3,
   "metadata": {},
   "outputs": [
    {
     "data": {
      "text/plain": [
       "18207"
      ]
     },
     "execution_count": 3,
     "metadata": {},
     "output_type": "execute_result"
    }
   ],
   "source": [
    "total_players=data_df['ID'].nunique()\n",
    "total_players"
   ]
  },
  {
   "cell_type": "code",
   "execution_count": 4,
   "metadata": {},
   "outputs": [],
   "source": [
    "#data_df.isnull().sum()"
   ]
  },
  {
   "cell_type": "code",
   "execution_count": 5,
   "metadata": {},
   "outputs": [
    {
     "data": {
      "text/plain": [
       "16"
      ]
     },
     "execution_count": 5,
     "metadata": {},
     "output_type": "execute_result"
    }
   ],
   "source": [
    "new_df=data_df.drop([ 'Release Clause','Loaned From', 'Joined'], axis='columns')\n",
    "new_df.drop(new_df.columns[26:52], axis=1, inplace=True)\n",
    "new_df.head()\n",
    "new_df['Age'].min()"
   ]
  },
  {
   "cell_type": "code",
   "execution_count": 6,
   "metadata": {},
   "outputs": [
    {
     "data": {
      "text/plain": [
       "45"
      ]
     },
     "execution_count": 6,
     "metadata": {},
     "output_type": "execute_result"
    }
   ],
   "source": [
    "new_df['Age'].max()"
   ]
  },
  {
   "cell_type": "code",
   "execution_count": 7,
   "metadata": {},
   "outputs": [
    {
     "data": {
      "text/plain": [
       "pandas.core.frame.DataFrame"
      ]
     },
     "execution_count": 7,
     "metadata": {},
     "output_type": "execute_result"
    }
   ],
   "source": [
    "new_df.isnull().sum()\n",
    "type(new_df)"
   ]
  },
  {
   "cell_type": "code",
   "execution_count": null,
   "metadata": {},
   "outputs": [],
   "source": []
  },
  {
   "cell_type": "code",
   "execution_count": 8,
   "metadata": {},
   "outputs": [
    {
     "data": {
      "text/html": [
       "<div>\n",
       "<style scoped>\n",
       "    .dataframe tbody tr th:only-of-type {\n",
       "        vertical-align: middle;\n",
       "    }\n",
       "\n",
       "    .dataframe tbody tr th {\n",
       "        vertical-align: top;\n",
       "    }\n",
       "\n",
       "    .dataframe thead th {\n",
       "        text-align: right;\n",
       "    }\n",
       "</style>\n",
       "<table border=\"1\" class=\"dataframe\">\n",
       "  <thead>\n",
       "    <tr style=\"text-align: right;\">\n",
       "      <th></th>\n",
       "      <th>Unnamed: 0</th>\n",
       "      <th>ID</th>\n",
       "      <th>Name</th>\n",
       "      <th>Age</th>\n",
       "      <th>Photo</th>\n",
       "      <th>Nationality</th>\n",
       "      <th>Flag</th>\n",
       "      <th>Overall</th>\n",
       "      <th>Potential</th>\n",
       "      <th>Club</th>\n",
       "      <th>...</th>\n",
       "      <th>Penalties</th>\n",
       "      <th>Composure</th>\n",
       "      <th>Marking</th>\n",
       "      <th>StandingTackle</th>\n",
       "      <th>SlidingTackle</th>\n",
       "      <th>GKDiving</th>\n",
       "      <th>GKHandling</th>\n",
       "      <th>GKKicking</th>\n",
       "      <th>GKPositioning</th>\n",
       "      <th>GKReflexes</th>\n",
       "    </tr>\n",
       "  </thead>\n",
       "  <tbody>\n",
       "    <tr>\n",
       "      <th>0</th>\n",
       "      <td>0</td>\n",
       "      <td>158023</td>\n",
       "      <td>L. Messi</td>\n",
       "      <td>31</td>\n",
       "      <td>https://cdn.sofifa.org/players/4/19/158023.png</td>\n",
       "      <td>Argentina</td>\n",
       "      <td>https://cdn.sofifa.org/flags/52.png</td>\n",
       "      <td>94</td>\n",
       "      <td>94</td>\n",
       "      <td>FC Barcelona</td>\n",
       "      <td>...</td>\n",
       "      <td>75.0</td>\n",
       "      <td>96.0</td>\n",
       "      <td>33.0</td>\n",
       "      <td>28.0</td>\n",
       "      <td>26.0</td>\n",
       "      <td>6.0</td>\n",
       "      <td>11.0</td>\n",
       "      <td>15.0</td>\n",
       "      <td>14.0</td>\n",
       "      <td>8.0</td>\n",
       "    </tr>\n",
       "    <tr>\n",
       "      <th>1</th>\n",
       "      <td>1</td>\n",
       "      <td>20801</td>\n",
       "      <td>Cristiano Ronaldo</td>\n",
       "      <td>33</td>\n",
       "      <td>https://cdn.sofifa.org/players/4/19/20801.png</td>\n",
       "      <td>Portugal</td>\n",
       "      <td>https://cdn.sofifa.org/flags/38.png</td>\n",
       "      <td>94</td>\n",
       "      <td>94</td>\n",
       "      <td>Juventus</td>\n",
       "      <td>...</td>\n",
       "      <td>85.0</td>\n",
       "      <td>95.0</td>\n",
       "      <td>28.0</td>\n",
       "      <td>31.0</td>\n",
       "      <td>23.0</td>\n",
       "      <td>7.0</td>\n",
       "      <td>11.0</td>\n",
       "      <td>15.0</td>\n",
       "      <td>14.0</td>\n",
       "      <td>11.0</td>\n",
       "    </tr>\n",
       "    <tr>\n",
       "      <th>2</th>\n",
       "      <td>2</td>\n",
       "      <td>190871</td>\n",
       "      <td>Neymar Jr</td>\n",
       "      <td>26</td>\n",
       "      <td>https://cdn.sofifa.org/players/4/19/190871.png</td>\n",
       "      <td>Brazil</td>\n",
       "      <td>https://cdn.sofifa.org/flags/54.png</td>\n",
       "      <td>92</td>\n",
       "      <td>93</td>\n",
       "      <td>Paris Saint-Germain</td>\n",
       "      <td>...</td>\n",
       "      <td>81.0</td>\n",
       "      <td>94.0</td>\n",
       "      <td>27.0</td>\n",
       "      <td>24.0</td>\n",
       "      <td>33.0</td>\n",
       "      <td>9.0</td>\n",
       "      <td>9.0</td>\n",
       "      <td>15.0</td>\n",
       "      <td>15.0</td>\n",
       "      <td>11.0</td>\n",
       "    </tr>\n",
       "    <tr>\n",
       "      <th>3</th>\n",
       "      <td>3</td>\n",
       "      <td>193080</td>\n",
       "      <td>De Gea</td>\n",
       "      <td>27</td>\n",
       "      <td>https://cdn.sofifa.org/players/4/19/193080.png</td>\n",
       "      <td>Spain</td>\n",
       "      <td>https://cdn.sofifa.org/flags/45.png</td>\n",
       "      <td>91</td>\n",
       "      <td>93</td>\n",
       "      <td>Manchester United</td>\n",
       "      <td>...</td>\n",
       "      <td>40.0</td>\n",
       "      <td>68.0</td>\n",
       "      <td>15.0</td>\n",
       "      <td>21.0</td>\n",
       "      <td>13.0</td>\n",
       "      <td>90.0</td>\n",
       "      <td>85.0</td>\n",
       "      <td>87.0</td>\n",
       "      <td>88.0</td>\n",
       "      <td>94.0</td>\n",
       "    </tr>\n",
       "    <tr>\n",
       "      <th>4</th>\n",
       "      <td>4</td>\n",
       "      <td>192985</td>\n",
       "      <td>K. De Bruyne</td>\n",
       "      <td>27</td>\n",
       "      <td>https://cdn.sofifa.org/players/4/19/192985.png</td>\n",
       "      <td>Belgium</td>\n",
       "      <td>https://cdn.sofifa.org/flags/7.png</td>\n",
       "      <td>91</td>\n",
       "      <td>92</td>\n",
       "      <td>Manchester City</td>\n",
       "      <td>...</td>\n",
       "      <td>79.0</td>\n",
       "      <td>88.0</td>\n",
       "      <td>68.0</td>\n",
       "      <td>58.0</td>\n",
       "      <td>51.0</td>\n",
       "      <td>15.0</td>\n",
       "      <td>13.0</td>\n",
       "      <td>5.0</td>\n",
       "      <td>10.0</td>\n",
       "      <td>13.0</td>\n",
       "    </tr>\n",
       "  </tbody>\n",
       "</table>\n",
       "<p>5 rows × 60 columns</p>\n",
       "</div>"
      ],
      "text/plain": [
       "   Unnamed: 0      ID               Name  Age  \\\n",
       "0           0  158023           L. Messi   31   \n",
       "1           1   20801  Cristiano Ronaldo   33   \n",
       "2           2  190871          Neymar Jr   26   \n",
       "3           3  193080             De Gea   27   \n",
       "4           4  192985       K. De Bruyne   27   \n",
       "\n",
       "                                            Photo Nationality  \\\n",
       "0  https://cdn.sofifa.org/players/4/19/158023.png   Argentina   \n",
       "1   https://cdn.sofifa.org/players/4/19/20801.png    Portugal   \n",
       "2  https://cdn.sofifa.org/players/4/19/190871.png      Brazil   \n",
       "3  https://cdn.sofifa.org/players/4/19/193080.png       Spain   \n",
       "4  https://cdn.sofifa.org/players/4/19/192985.png     Belgium   \n",
       "\n",
       "                                  Flag  Overall  Potential  \\\n",
       "0  https://cdn.sofifa.org/flags/52.png       94         94   \n",
       "1  https://cdn.sofifa.org/flags/38.png       94         94   \n",
       "2  https://cdn.sofifa.org/flags/54.png       92         93   \n",
       "3  https://cdn.sofifa.org/flags/45.png       91         93   \n",
       "4   https://cdn.sofifa.org/flags/7.png       91         92   \n",
       "\n",
       "                  Club  ... Penalties Composure Marking  StandingTackle  \\\n",
       "0         FC Barcelona  ...      75.0      96.0    33.0            28.0   \n",
       "1             Juventus  ...      85.0      95.0    28.0            31.0   \n",
       "2  Paris Saint-Germain  ...      81.0      94.0    27.0            24.0   \n",
       "3    Manchester United  ...      40.0      68.0    15.0            21.0   \n",
       "4      Manchester City  ...      79.0      88.0    68.0            58.0   \n",
       "\n",
       "  SlidingTackle  GKDiving  GKHandling  GKKicking GKPositioning GKReflexes  \n",
       "0          26.0       6.0        11.0       15.0          14.0        8.0  \n",
       "1          23.0       7.0        11.0       15.0          14.0       11.0  \n",
       "2          33.0       9.0         9.0       15.0          15.0       11.0  \n",
       "3          13.0      90.0        85.0       87.0          88.0       94.0  \n",
       "4          51.0      15.0        13.0        5.0          10.0       13.0  \n",
       "\n",
       "[5 rows x 60 columns]"
      ]
     },
     "execution_count": 8,
     "metadata": {},
     "output_type": "execute_result"
    }
   ],
   "source": [
    "#new_df.dropna(axis = 0, how ='any', inplace = True)\n",
    "new_df=new_df.dropna()\n",
    "new_df.isnull().sum()\n",
    "new_df.head()"
   ]
  },
  {
   "cell_type": "code",
   "execution_count": 9,
   "metadata": {},
   "outputs": [],
   "source": [
    "# changing Wage to int\n",
    "wage_value=[]\n",
    "\n",
    "for wage in new_df['Wage']:\n",
    "    string_val = sub(r'[^\\d.]', '000', wage)\n",
    "    wage_value.append(string_val)\n",
    "\n",
    "new_df['Wage'] = wage_value\n",
    "new_df['Wage'] = new_df['Wage'].astype(int)\n"
   ]
  },
  {
   "cell_type": "code",
   "execution_count": 10,
   "metadata": {},
   "outputs": [
    {
     "name": "stdout",
     "output_type": "stream",
     "text": [
      "0    565000\n",
      "1    405000\n",
      "2    290000\n",
      "3    260000\n",
      "4    355000\n",
      "Name: Wage, dtype: int64\n"
     ]
    }
   ],
   "source": [
    "print(new_df['Wage'].head())"
   ]
  },
  {
   "cell_type": "code",
   "execution_count": 11,
   "metadata": {},
   "outputs": [],
   "source": [
    "total_players_new=new_df['ID'].nunique()"
   ]
  },
  {
   "cell_type": "code",
   "execution_count": 12,
   "metadata": {},
   "outputs": [],
   "source": [
    "# 1. Create bins for player age groups and correlate with salary/wages\n",
    "age_bins = [15, 20, 25, 30, 35,40,50]\n",
    "age_groups = [\"<20\", \"21-25\",\"26-30\",\"31-35\",\"36-40\",\">40\"]\n",
    "\n",
    "# purchase_data[\"Age Range\"] = pd.cut(purchase_data[\"Age\"],age_bins,labels = group_names)\n",
    "# purchase_data.head()"
   ]
  },
  {
   "cell_type": "code",
   "execution_count": 13,
   "metadata": {},
   "outputs": [
    {
     "data": {
      "text/html": [
       "<div>\n",
       "<style scoped>\n",
       "    .dataframe tbody tr th:only-of-type {\n",
       "        vertical-align: middle;\n",
       "    }\n",
       "\n",
       "    .dataframe tbody tr th {\n",
       "        vertical-align: top;\n",
       "    }\n",
       "\n",
       "    .dataframe thead th {\n",
       "        text-align: right;\n",
       "    }\n",
       "</style>\n",
       "<table border=\"1\" class=\"dataframe\">\n",
       "  <thead>\n",
       "    <tr style=\"text-align: right;\">\n",
       "      <th></th>\n",
       "      <th>ID</th>\n",
       "      <th>Name</th>\n",
       "      <th>Age</th>\n",
       "      <th>Age Range</th>\n",
       "      <th>Wage</th>\n",
       "      <th>Value</th>\n",
       "    </tr>\n",
       "  </thead>\n",
       "  <tbody>\n",
       "    <tr>\n",
       "      <th>0</th>\n",
       "      <td>158023</td>\n",
       "      <td>L. Messi</td>\n",
       "      <td>31</td>\n",
       "      <td>31-35</td>\n",
       "      <td>565000</td>\n",
       "      <td>€110.5M</td>\n",
       "    </tr>\n",
       "    <tr>\n",
       "      <th>1</th>\n",
       "      <td>20801</td>\n",
       "      <td>Cristiano Ronaldo</td>\n",
       "      <td>33</td>\n",
       "      <td>31-35</td>\n",
       "      <td>405000</td>\n",
       "      <td>€77M</td>\n",
       "    </tr>\n",
       "    <tr>\n",
       "      <th>2</th>\n",
       "      <td>190871</td>\n",
       "      <td>Neymar Jr</td>\n",
       "      <td>26</td>\n",
       "      <td>26-30</td>\n",
       "      <td>290000</td>\n",
       "      <td>€118.5M</td>\n",
       "    </tr>\n",
       "    <tr>\n",
       "      <th>3</th>\n",
       "      <td>193080</td>\n",
       "      <td>De Gea</td>\n",
       "      <td>27</td>\n",
       "      <td>26-30</td>\n",
       "      <td>260000</td>\n",
       "      <td>€72M</td>\n",
       "    </tr>\n",
       "    <tr>\n",
       "      <th>4</th>\n",
       "      <td>192985</td>\n",
       "      <td>K. De Bruyne</td>\n",
       "      <td>27</td>\n",
       "      <td>26-30</td>\n",
       "      <td>355000</td>\n",
       "      <td>€102M</td>\n",
       "    </tr>\n",
       "  </tbody>\n",
       "</table>\n",
       "</div>"
      ],
      "text/plain": [
       "       ID               Name  Age Age Range    Wage    Value\n",
       "0  158023           L. Messi   31     31-35  565000  €110.5M\n",
       "1   20801  Cristiano Ronaldo   33     31-35  405000     €77M\n",
       "2  190871          Neymar Jr   26     26-30  290000  €118.5M\n",
       "3  193080             De Gea   27     26-30  260000     €72M\n",
       "4  192985       K. De Bruyne   27     26-30  355000    €102M"
      ]
     },
     "execution_count": 13,
     "metadata": {},
     "output_type": "execute_result"
    }
   ],
   "source": [
    "age_range_df = pd.DataFrame(new_df)\n",
    "age_range_df['Age Range'] = pd.cut(age_range_df[\"Age\"],age_bins,labels = age_groups)\n",
    "age_range_df = age_range_df[['ID','Name','Age','Age Range','Wage','Value']]\n",
    "\n",
    "age_range_df.head()"
   ]
  },
  {
   "cell_type": "code",
   "execution_count": 14,
   "metadata": {},
   "outputs": [
    {
     "data": {
      "text/html": [
       "<div>\n",
       "<style scoped>\n",
       "    .dataframe tbody tr th:only-of-type {\n",
       "        vertical-align: middle;\n",
       "    }\n",
       "\n",
       "    .dataframe tbody tr th {\n",
       "        vertical-align: top;\n",
       "    }\n",
       "\n",
       "    .dataframe thead th {\n",
       "        text-align: right;\n",
       "    }\n",
       "</style>\n",
       "<table border=\"1\" class=\"dataframe\">\n",
       "  <thead>\n",
       "    <tr style=\"text-align: right;\">\n",
       "      <th></th>\n",
       "      <th>ID</th>\n",
       "      <th>Name</th>\n",
       "      <th>Age</th>\n",
       "      <th>Wage</th>\n",
       "      <th>Value</th>\n",
       "      <th>Total Wage</th>\n",
       "    </tr>\n",
       "    <tr>\n",
       "      <th>Age Range</th>\n",
       "      <th></th>\n",
       "      <th></th>\n",
       "      <th></th>\n",
       "      <th></th>\n",
       "      <th></th>\n",
       "      <th></th>\n",
       "    </tr>\n",
       "  </thead>\n",
       "  <tbody>\n",
       "    <tr>\n",
       "      <th>&lt;20</th>\n",
       "      <td>3304</td>\n",
       "      <td>3304</td>\n",
       "      <td>3304</td>\n",
       "      <td>3304</td>\n",
       "      <td>3304</td>\n",
       "      <td>11006000</td>\n",
       "    </tr>\n",
       "    <tr>\n",
       "      <th>21-25</th>\n",
       "      <td>6666</td>\n",
       "      <td>6666</td>\n",
       "      <td>6666</td>\n",
       "      <td>6666</td>\n",
       "      <td>6666</td>\n",
       "      <td>59129000</td>\n",
       "    </tr>\n",
       "    <tr>\n",
       "      <th>26-30</th>\n",
       "      <td>5412</td>\n",
       "      <td>5412</td>\n",
       "      <td>5412</td>\n",
       "      <td>5412</td>\n",
       "      <td>5412</td>\n",
       "      <td>74777000</td>\n",
       "    </tr>\n",
       "    <tr>\n",
       "      <th>31-35</th>\n",
       "      <td>2247</td>\n",
       "      <td>2247</td>\n",
       "      <td>2247</td>\n",
       "      <td>2247</td>\n",
       "      <td>2247</td>\n",
       "      <td>30427000</td>\n",
       "    </tr>\n",
       "    <tr>\n",
       "      <th>36-40</th>\n",
       "      <td>281</td>\n",
       "      <td>281</td>\n",
       "      <td>281</td>\n",
       "      <td>281</td>\n",
       "      <td>281</td>\n",
       "      <td>1737000</td>\n",
       "    </tr>\n",
       "    <tr>\n",
       "      <th>&gt;40</th>\n",
       "      <td>8</td>\n",
       "      <td>8</td>\n",
       "      <td>8</td>\n",
       "      <td>8</td>\n",
       "      <td>8</td>\n",
       "      <td>21000</td>\n",
       "    </tr>\n",
       "  </tbody>\n",
       "</table>\n",
       "</div>"
      ],
      "text/plain": [
       "             ID  Name   Age  Wage  Value  Total Wage\n",
       "Age Range                                           \n",
       "<20        3304  3304  3304  3304   3304    11006000\n",
       "21-25      6666  6666  6666  6666   6666    59129000\n",
       "26-30      5412  5412  5412  5412   5412    74777000\n",
       "31-35      2247  2247  2247  2247   2247    30427000\n",
       "36-40       281   281   281   281    281     1737000\n",
       ">40           8     8     8     8      8       21000"
      ]
     },
     "execution_count": 14,
     "metadata": {},
     "output_type": "execute_result"
    }
   ],
   "source": [
    "age_analysis_df = pd.DataFrame(age_range_df.groupby(['Age Range']).count())\n",
    "\n",
    "age_analysis_df['Total Wage'] = age_range_df.groupby(['Age Range'])[['Wage']].sum()\n",
    "#age_analysis_df['Mean Value'] = age_range_df.\n",
    "age_analysis_df\n",
    "\n",
    "# age_range_df"
   ]
  },
  {
   "cell_type": "code",
   "execution_count": 15,
   "metadata": {},
   "outputs": [
    {
     "data": {
      "text/plain": [
       "74777000"
      ]
     },
     "execution_count": 15,
     "metadata": {},
     "output_type": "execute_result"
    }
   ],
   "source": [
    "age_analysis_df['Total Wage'].max()"
   ]
  },
  {
   "cell_type": "code",
   "execution_count": 16,
   "metadata": {},
   "outputs": [
    {
     "data": {
      "text/plain": [
       "21000"
      ]
     },
     "execution_count": 16,
     "metadata": {},
     "output_type": "execute_result"
    }
   ],
   "source": [
    "age_analysis_df['Total Wage'].min()"
   ]
  },
  {
   "cell_type": "code",
   "execution_count": 17,
   "metadata": {},
   "outputs": [
    {
     "data": {
      "image/png": "[encoded data removed]",
      "text/plain": [
       "<Figure size 432x288 with 1 Axes>"
      ]
     },
     "metadata": {
      "needs_background": "light"
     },
     "output_type": "display_data"
    }
   ],
   "source": [
    "Age_player=age_analysis_df.index\n",
    "Player_wage=age_analysis_df['Total Wage']\n",
    "x_axis=np.arange(len(Age_player))\n",
    "plt.bar(x_axis, Player_wage, color=('red'),  align=\"center\")\n",
    "tick_locations = [value for value in x_axis]\n",
    "plt.xticks(tick_locations, Age_player)\n",
    "plt.yticks([1000000,10000000,20000000,30000000,40000000,50000000,60000000,70000000,80000000])\n",
    "#plt.grid(axis='y')\n",
    "plt.grid()\n",
    "\n",
    "plt.title(\"Age Range Vs Player's Wage\")\n",
    "plt.ylabel('Wage(in 10 million)')\n",
    "plt.xlabel('Age Range')\n",
    "plt.savefig('Wage.png')"
   ]
  },
  {
   "cell_type": "code",
   "execution_count": 18,
   "metadata": {},
   "outputs": [
    {
     "data": {
      "text/html": [
       "<div>\n",
       "<style scoped>\n",
       "    .dataframe tbody tr th:only-of-type {\n",
       "        vertical-align: middle;\n",
       "    }\n",
       "\n",
       "    .dataframe tbody tr th {\n",
       "        vertical-align: top;\n",
       "    }\n",
       "\n",
       "    .dataframe thead th {\n",
       "        text-align: right;\n",
       "    }\n",
       "</style>\n",
       "<table border=\"1\" class=\"dataframe\">\n",
       "  <thead>\n",
       "    <tr style=\"text-align: right;\">\n",
       "      <th></th>\n",
       "      <th>Nationality</th>\n",
       "      <th>ID</th>\n",
       "    </tr>\n",
       "  </thead>\n",
       "  <tbody>\n",
       "    <tr>\n",
       "      <th>0</th>\n",
       "      <td>Afghanistan</td>\n",
       "      <td>4</td>\n",
       "    </tr>\n",
       "    <tr>\n",
       "      <th>1</th>\n",
       "      <td>Albania</td>\n",
       "      <td>39</td>\n",
       "    </tr>\n",
       "    <tr>\n",
       "      <th>2</th>\n",
       "      <td>Algeria</td>\n",
       "      <td>60</td>\n",
       "    </tr>\n",
       "    <tr>\n",
       "      <th>3</th>\n",
       "      <td>Andorra</td>\n",
       "      <td>1</td>\n",
       "    </tr>\n",
       "    <tr>\n",
       "      <th>4</th>\n",
       "      <td>Angola</td>\n",
       "      <td>15</td>\n",
       "    </tr>\n",
       "  </tbody>\n",
       "</table>\n",
       "</div>"
      ],
      "text/plain": [
       "   Nationality  ID\n",
       "0  Afghanistan   4\n",
       "1      Albania  39\n",
       "2      Algeria  60\n",
       "3      Andorra   1\n",
       "4       Angola  15"
      ]
     },
     "execution_count": 18,
     "metadata": {},
     "output_type": "execute_result"
    }
   ],
   "source": [
    "country_analysis_df = pd.DataFrame(new_df.groupby(['Nationality'])[['ID']].count()).reset_index()\n",
    "country_analysis_df.head()\n"
   ]
  },
  {
   "cell_type": "code",
   "execution_count": 19,
   "metadata": {},
   "outputs": [],
   "source": [
    "#Converting 'Players count - grouped(ID)' to integer\n",
    "country_analysis_df['Players_count'] = country_analysis_df['ID'].astype(int)\n"
   ]
  },
  {
   "cell_type": "code",
   "execution_count": 20,
   "metadata": {},
   "outputs": [
    {
     "data": {
      "text/html": [
       "<div>\n",
       "<style scoped>\n",
       "    .dataframe tbody tr th:only-of-type {\n",
       "        vertical-align: middle;\n",
       "    }\n",
       "\n",
       "    .dataframe tbody tr th {\n",
       "        vertical-align: top;\n",
       "    }\n",
       "\n",
       "    .dataframe thead th {\n",
       "        text-align: right;\n",
       "    }\n",
       "</style>\n",
       "<table border=\"1\" class=\"dataframe\">\n",
       "  <thead>\n",
       "    <tr style=\"text-align: right;\">\n",
       "      <th></th>\n",
       "      <th>Nationality</th>\n",
       "      <th>ID</th>\n",
       "      <th>Players_count</th>\n",
       "    </tr>\n",
       "  </thead>\n",
       "  <tbody>\n",
       "    <tr>\n",
       "      <th>6</th>\n",
       "      <td>Argentina</td>\n",
       "      <td>935</td>\n",
       "      <td>935</td>\n",
       "    </tr>\n",
       "    <tr>\n",
       "      <th>8</th>\n",
       "      <td>Australia</td>\n",
       "      <td>234</td>\n",
       "      <td>234</td>\n",
       "    </tr>\n",
       "    <tr>\n",
       "      <th>9</th>\n",
       "      <td>Austria</td>\n",
       "      <td>296</td>\n",
       "      <td>296</td>\n",
       "    </tr>\n",
       "    <tr>\n",
       "      <th>13</th>\n",
       "      <td>Belgium</td>\n",
       "      <td>259</td>\n",
       "      <td>259</td>\n",
       "    </tr>\n",
       "    <tr>\n",
       "      <th>20</th>\n",
       "      <td>Brazil</td>\n",
       "      <td>825</td>\n",
       "      <td>825</td>\n",
       "    </tr>\n",
       "    <tr>\n",
       "      <th>29</th>\n",
       "      <td>Chile</td>\n",
       "      <td>388</td>\n",
       "      <td>388</td>\n",
       "    </tr>\n",
       "    <tr>\n",
       "      <th>30</th>\n",
       "      <td>China PR</td>\n",
       "      <td>390</td>\n",
       "      <td>390</td>\n",
       "    </tr>\n",
       "    <tr>\n",
       "      <th>31</th>\n",
       "      <td>Colombia</td>\n",
       "      <td>616</td>\n",
       "      <td>616</td>\n",
       "    </tr>\n",
       "    <tr>\n",
       "      <th>35</th>\n",
       "      <td>Croatia</td>\n",
       "      <td>126</td>\n",
       "      <td>126</td>\n",
       "    </tr>\n",
       "    <tr>\n",
       "      <th>41</th>\n",
       "      <td>Denmark</td>\n",
       "      <td>335</td>\n",
       "      <td>335</td>\n",
       "    </tr>\n",
       "    <tr>\n",
       "      <th>46</th>\n",
       "      <td>England</td>\n",
       "      <td>1657</td>\n",
       "      <td>1657</td>\n",
       "    </tr>\n",
       "    <tr>\n",
       "      <th>55</th>\n",
       "      <td>France</td>\n",
       "      <td>911</td>\n",
       "      <td>911</td>\n",
       "    </tr>\n",
       "    <tr>\n",
       "      <th>59</th>\n",
       "      <td>Germany</td>\n",
       "      <td>1195</td>\n",
       "      <td>1195</td>\n",
       "    </tr>\n",
       "    <tr>\n",
       "      <th>60</th>\n",
       "      <td>Ghana</td>\n",
       "      <td>114</td>\n",
       "      <td>114</td>\n",
       "    </tr>\n",
       "    <tr>\n",
       "      <th>77</th>\n",
       "      <td>Italy</td>\n",
       "      <td>699</td>\n",
       "      <td>699</td>\n",
       "    </tr>\n",
       "    <tr>\n",
       "      <th>80</th>\n",
       "      <td>Japan</td>\n",
       "      <td>478</td>\n",
       "      <td>478</td>\n",
       "    </tr>\n",
       "    <tr>\n",
       "      <th>85</th>\n",
       "      <td>Korea Republic</td>\n",
       "      <td>333</td>\n",
       "      <td>333</td>\n",
       "    </tr>\n",
       "    <tr>\n",
       "      <th>100</th>\n",
       "      <td>Mexico</td>\n",
       "      <td>365</td>\n",
       "      <td>365</td>\n",
       "    </tr>\n",
       "    <tr>\n",
       "      <th>107</th>\n",
       "      <td>Netherlands</td>\n",
       "      <td>452</td>\n",
       "      <td>452</td>\n",
       "    </tr>\n",
       "    <tr>\n",
       "      <th>112</th>\n",
       "      <td>Nigeria</td>\n",
       "      <td>121</td>\n",
       "      <td>121</td>\n",
       "    </tr>\n",
       "    <tr>\n",
       "      <th>114</th>\n",
       "      <td>Norway</td>\n",
       "      <td>341</td>\n",
       "      <td>341</td>\n",
       "    </tr>\n",
       "    <tr>\n",
       "      <th>121</th>\n",
       "      <td>Poland</td>\n",
       "      <td>347</td>\n",
       "      <td>347</td>\n",
       "    </tr>\n",
       "    <tr>\n",
       "      <th>122</th>\n",
       "      <td>Portugal</td>\n",
       "      <td>321</td>\n",
       "      <td>321</td>\n",
       "    </tr>\n",
       "    <tr>\n",
       "      <th>125</th>\n",
       "      <td>Republic of Ireland</td>\n",
       "      <td>368</td>\n",
       "      <td>368</td>\n",
       "    </tr>\n",
       "    <tr>\n",
       "      <th>129</th>\n",
       "      <td>Saudi Arabia</td>\n",
       "      <td>337</td>\n",
       "      <td>337</td>\n",
       "    </tr>\n",
       "    <tr>\n",
       "      <th>130</th>\n",
       "      <td>Scotland</td>\n",
       "      <td>283</td>\n",
       "      <td>283</td>\n",
       "    </tr>\n",
       "    <tr>\n",
       "      <th>131</th>\n",
       "      <td>Senegal</td>\n",
       "      <td>130</td>\n",
       "      <td>130</td>\n",
       "    </tr>\n",
       "    <tr>\n",
       "      <th>132</th>\n",
       "      <td>Serbia</td>\n",
       "      <td>126</td>\n",
       "      <td>126</td>\n",
       "    </tr>\n",
       "    <tr>\n",
       "      <th>138</th>\n",
       "      <td>Spain</td>\n",
       "      <td>1071</td>\n",
       "      <td>1071</td>\n",
       "    </tr>\n",
       "    <tr>\n",
       "      <th>143</th>\n",
       "      <td>Sweden</td>\n",
       "      <td>394</td>\n",
       "      <td>394</td>\n",
       "    </tr>\n",
       "    <tr>\n",
       "      <th>144</th>\n",
       "      <td>Switzerland</td>\n",
       "      <td>220</td>\n",
       "      <td>220</td>\n",
       "    </tr>\n",
       "    <tr>\n",
       "      <th>152</th>\n",
       "      <td>Turkey</td>\n",
       "      <td>303</td>\n",
       "      <td>303</td>\n",
       "    </tr>\n",
       "    <tr>\n",
       "      <th>156</th>\n",
       "      <td>United States</td>\n",
       "      <td>353</td>\n",
       "      <td>353</td>\n",
       "    </tr>\n",
       "    <tr>\n",
       "      <th>157</th>\n",
       "      <td>Uruguay</td>\n",
       "      <td>146</td>\n",
       "      <td>146</td>\n",
       "    </tr>\n",
       "    <tr>\n",
       "      <th>160</th>\n",
       "      <td>Wales</td>\n",
       "      <td>128</td>\n",
       "      <td>128</td>\n",
       "    </tr>\n",
       "  </tbody>\n",
       "</table>\n",
       "</div>"
      ],
      "text/plain": [
       "             Nationality    ID  Players_count\n",
       "6              Argentina   935            935\n",
       "8              Australia   234            234\n",
       "9                Austria   296            296\n",
       "13               Belgium   259            259\n",
       "20                Brazil   825            825\n",
       "29                 Chile   388            388\n",
       "30              China PR   390            390\n",
       "31              Colombia   616            616\n",
       "35               Croatia   126            126\n",
       "41               Denmark   335            335\n",
       "46               England  1657           1657\n",
       "55                France   911            911\n",
       "59               Germany  1195           1195\n",
       "60                 Ghana   114            114\n",
       "77                 Italy   699            699\n",
       "80                 Japan   478            478\n",
       "85        Korea Republic   333            333\n",
       "100               Mexico   365            365\n",
       "107          Netherlands   452            452\n",
       "112              Nigeria   121            121\n",
       "114               Norway   341            341\n",
       "121               Poland   347            347\n",
       "122             Portugal   321            321\n",
       "125  Republic of Ireland   368            368\n",
       "129         Saudi Arabia   337            337\n",
       "130             Scotland   283            283\n",
       "131              Senegal   130            130\n",
       "132               Serbia   126            126\n",
       "138                Spain  1071           1071\n",
       "143               Sweden   394            394\n",
       "144          Switzerland   220            220\n",
       "152               Turkey   303            303\n",
       "156        United States   353            353\n",
       "157              Uruguay   146            146\n",
       "160                Wales   128            128"
      ]
     },
     "execution_count": 20,
     "metadata": {},
     "output_type": "execute_result"
    }
   ],
   "source": [
    "\n",
    "country_analysis_df['Players_count'] = country_analysis_df['Players_count'].apply(lambda x: x if x > 100 else 0)\n",
    "country_analysis_df = country_analysis_df[country_analysis_df.Players_count != 0]\n",
    "country_analysis_df"
   ]
  },
  {
   "cell_type": "code",
   "execution_count": 21,
   "metadata": {},
   "outputs": [],
   "source": [
    "# Set x axis and tick locations\n",
    "x_axis = np.arange(len(country_analysis_df))\n",
    "tick_locations = [value+0.4 for value in x_axis]"
   ]
  },
  {
   "cell_type": "code",
   "execution_count": 22,
   "metadata": {},
   "outputs": [
    {
     "data": {
      "image/png": "[encoded data removed]",
      "text/plain": [
       "<Figure size 1800x1080 with 1 Axes>"
      ]
     },
     "metadata": {
      "needs_background": "light"
     },
     "output_type": "display_data"
    }
   ],
   "source": [
    "# Create a list indicating where to write x labels and set figure size to adjust for space\n",
    "plt.figure(figsize=(25,15))\n",
    "plt.bar(x_axis, country_analysis_df[\"Players_count\"], color='r', align=\"edge\")\n",
    "plt.xticks(tick_locations, country_analysis_df[\"Nationality\"], rotation=\"vertical\",fontsize=16)\n",
    "plt.title(\"Countries with >100 players\",fontsize=20)\n",
    "plt.ylabel('Number of Players',fontsize=16)\n",
    "plt.xlabel('Countries with more than 100 Players',fontsize=16)\n",
    "plt.savefig('Countries.png')"
   ]
  },
  {
   "cell_type": "code",
   "execution_count": 23,
   "metadata": {},
   "outputs": [
    {
     "data": {
      "text/plain": [
       "Index(['Unnamed: 0', 'ID', 'Name', 'Age', 'Photo', 'Nationality', 'Flag',\n",
       "       'Overall', 'Potential', 'Club', 'Club Logo', 'Value', 'Wage', 'Special',\n",
       "       'Preferred Foot', 'International Reputation', 'Weak Foot',\n",
       "       'Skill Moves', 'Work Rate', 'Body Type', 'Real Face', 'Position',\n",
       "       'Jersey Number', 'Contract Valid Until', 'Height', 'Weight', 'Crossing',\n",
       "       'Finishing', 'HeadingAccuracy', 'ShortPassing', 'Volleys', 'Dribbling',\n",
       "       'Curve', 'FKAccuracy', 'LongPassing', 'BallControl', 'Acceleration',\n",
       "       'SprintSpeed', 'Agility', 'Reactions', 'Balance', 'ShotPower',\n",
       "       'Jumping', 'Stamina', 'Strength', 'LongShots', 'Aggression',\n",
       "       'Interceptions', 'Positioning', 'Vision', 'Penalties', 'Composure',\n",
       "       'Marking', 'StandingTackle', 'SlidingTackle', 'GKDiving', 'GKHandling',\n",
       "       'GKKicking', 'GKPositioning', 'GKReflexes', 'Age Range'],\n",
       "      dtype='object')"
      ]
     },
     "execution_count": 23,
     "metadata": {},
     "output_type": "execute_result"
    }
   ],
   "source": [
    "new_df.columns"
   ]
  },
  {
   "cell_type": "code",
   "execution_count": 24,
   "metadata": {},
   "outputs": [],
   "source": [
    "def getLatLng(country): \n",
    "    # Target country\n",
    "    target_country = country\n",
    "\n",
    "    # Build the endpoint URL\n",
    "    target_url = ('https://maps.googleapis.com/maps/api/geocode/json?'\n",
    "                  'address={0}&key={1}').format(target_country, gkey)\n",
    "    \n",
    "    # Run a request to endpoint and convert result to json\n",
    "    geo_data = requests.get(target_url).json()\n",
    "\n",
    "    # Extract latitude and longitude\n",
    "    lat = geo_data[\"results\"][0][\"geometry\"][\"location\"][\"lat\"]\n",
    "    lng = geo_data[\"results\"][0][\"geometry\"][\"location\"][\"lng\"]\n",
    "    return lat,lng;   "
   ]
  },
  {
   "cell_type": "code",
   "execution_count": 25,
   "metadata": {},
   "outputs": [
    {
     "name": "stdout",
     "output_type": "stream",
     "text": [
      "Argentina -38.416097 -63.61667199999999\n",
      "Australia -25.274398 133.775136\n",
      "Austria 47.516231 14.550072\n",
      "Belgium 50.503887 4.469936\n",
      "Brazil -14.235004 -51.92528\n",
      "Chile -35.675147 -71.542969\n",
      "China PR 41.666341 -70.92855709999999\n",
      "Colombia 4.570868 -74.297333\n",
      "Croatia 45.1 15.2000001\n",
      "Denmark 56.26392 9.501785\n",
      "England 52.3555177 -1.1743197\n",
      "France 46.227638 2.213749\n",
      "Germany 51.165691 10.451526\n",
      "Ghana 7.946527 -1.023194\n",
      "Italy 41.87194 12.56738\n",
      "Japan 36.204824 138.252924\n",
      "Korea Republic 35.907757 127.766922\n",
      "Mexico 23.634501 -102.552784\n",
      "Netherlands 52.132633 5.291265999999999\n",
      "Nigeria 9.081999 8.675277\n",
      "Norway 60.47202399999999 8.468945999999999\n",
      "Poland 51.919438 19.145136\n",
      "Portugal 39.39987199999999 -8.224454\n",
      "Republic of Ireland 53.41291 -8.24389\n",
      "Saudi Arabia 23.885942 45.079162\n",
      "Scotland 56.49067119999999 -4.2026458\n",
      "Senegal 14.497401 -14.452362\n",
      "Serbia 44.016521 21.005859\n",
      "Spain 40.46366700000001 -3.74922\n",
      "Sweden 60.12816100000001 18.643501\n",
      "Switzerland 46.818188 8.227511999999999\n",
      "Turkey 38.963745 35.243322\n",
      "United States 37.09024 -95.712891\n",
      "Uruguay -32.522779 -55.765835\n",
      "Wales 52.1306607 -3.7837117\n"
     ]
    }
   ],
   "source": [
    "# row_number = 0\n",
    "for i, row in country_analysis_df.iterrows():\n",
    "    lat, lng = getLatLng(row['Nationality'])\n",
    "    print(row['Nationality'], lat, lng)\n",
    "    country_analysis_df.at[i, 'Latitude'] = lat\n",
    "    country_analysis_df.at[i, 'Longitude'] = lng\n",
    "    \n",
    "    \n",
    "# for country in country_analysis_df.Nationality:\n",
    "#     lat, lng = getLatLng(country)\n",
    "#     country_analysis_df.iat[row_number, 'Latitude'] = lat\n",
    "#     country_analysis_df.iat[row_number, 'Longitude'] = lng\n",
    "# #     country_analysis_df['Latitude'] = country_analysis_df['Latitude'].iloc[row_number] = lat\n",
    "# #     country_analysis_df['Longitude'] = country_analysis_df['Longitude'].iloc[row_number] = lng\n",
    "#     row_number = row_number + 1\n",
    "    "
   ]
  },
  {
   "cell_type": "code",
   "execution_count": 26,
   "metadata": {},
   "outputs": [
    {
     "name": "stdout",
     "output_type": "stream",
     "text": [
      "             Nationality    ID  Players_count   Latitude   Longitude\n",
      "6              Argentina   935            935 -38.416097  -63.616672\n",
      "8              Australia   234            234 -25.274398  133.775136\n",
      "9                Austria   296            296  47.516231   14.550072\n",
      "13               Belgium   259            259  50.503887    4.469936\n",
      "20                Brazil   825            825 -14.235004  -51.925280\n",
      "29                 Chile   388            388 -35.675147  -71.542969\n",
      "30              China PR   390            390  41.666341  -70.928557\n",
      "31              Colombia   616            616   4.570868  -74.297333\n",
      "35               Croatia   126            126  45.100000   15.200000\n",
      "41               Denmark   335            335  56.263920    9.501785\n",
      "46               England  1657           1657  52.355518   -1.174320\n",
      "55                France   911            911  46.227638    2.213749\n",
      "59               Germany  1195           1195  51.165691   10.451526\n",
      "60                 Ghana   114            114   7.946527   -1.023194\n",
      "77                 Italy   699            699  41.871940   12.567380\n",
      "80                 Japan   478            478  36.204824  138.252924\n",
      "85        Korea Republic   333            333  35.907757  127.766922\n",
      "100               Mexico   365            365  23.634501 -102.552784\n",
      "107          Netherlands   452            452  52.132633    5.291266\n",
      "112              Nigeria   121            121   9.081999    8.675277\n",
      "114               Norway   341            341  60.472024    8.468946\n",
      "121               Poland   347            347  51.919438   19.145136\n",
      "122             Portugal   321            321  39.399872   -8.224454\n",
      "125  Republic of Ireland   368            368  53.412910   -8.243890\n",
      "129         Saudi Arabia   337            337  23.885942   45.079162\n",
      "130             Scotland   283            283  56.490671   -4.202646\n",
      "131              Senegal   130            130  14.497401  -14.452362\n",
      "132               Serbia   126            126  44.016521   21.005859\n",
      "138                Spain  1071           1071  40.463667   -3.749220\n",
      "143               Sweden   394            394  60.128161   18.643501\n",
      "144          Switzerland   220            220  46.818188    8.227512\n",
      "152               Turkey   303            303  38.963745   35.243322\n",
      "156        United States   353            353  37.090240  -95.712891\n",
      "157              Uruguay   146            146 -32.522779  -55.765835\n",
      "160                Wales   128            128  52.130661   -3.783712\n"
     ]
    }
   ],
   "source": [
    "print((country_analysis_df))"
   ]
  },
  {
   "cell_type": "code",
   "execution_count": 27,
   "metadata": {},
   "outputs": [
    {
     "name": "stdout",
     "output_type": "stream",
     "text": [
      "[(-38.416097, -63.61667199999999), (-25.274398, 133.775136), (47.516231, 14.550072), (50.503887, 4.469936), (-14.235004, -51.92528), (-35.675147, -71.542969), (41.666341, -70.92855709999999), (4.570868, -74.297333), (45.1, 15.2000001), (56.26392, 9.501785), (52.3555177, -1.1743197), (46.227638, 2.213749), (51.165691, 10.451526), (7.946527, -1.023194), (41.87194, 12.56738), (36.204824, 138.252924), (35.907757, 127.766922), (23.634501, -102.552784), (52.132633, 5.291265999999999), (9.081999, 8.675277), (60.47202399999999, 8.468945999999999), (51.919438, 19.145136), (39.39987199999999, -8.224454), (53.41291, -8.24389), (23.885942, 45.079162), (56.49067119999999, -4.2026458), (14.497401, -14.452362), (44.016521, 21.005859), (40.46366700000001, -3.74922), (60.12816100000001, 18.643501), (46.818188, 8.227511999999999), (38.963745, 35.243322), (37.09024, -95.712891), (-32.522779, -55.765835), (52.1306607, -3.7837117)]\n"
     ]
    }
   ],
   "source": [
    "subset = country_analysis_df[['Latitude', 'Longitude']]\n",
    "tuples = [tuple(x) for x in subset.values]\n",
    "print(tuples)\n",
    "# latlong_a = list(zip(*country_analysis_df[c].values.tolist() for c in ['Latitude', 'Longitude']))\n",
    "                       "
   ]
  },
  {
   "cell_type": "code",
   "execution_count": 28,
   "metadata": {},
   "outputs": [
    {
     "data": {
      "application/vnd.jupyter.widget-view+json": {
       "model_id": "9bb02e6cde274d438af43a1037a70188",
       "version_major": 2,
       "version_minor": 0
      },
      "text/plain": [
       "Figure(layout=FigureLayout(border='1px solid black', height='300px', margin='0 auto 0 auto', padding='1px', wi…"
      ]
     },
     "metadata": {},
     "output_type": "display_data"
    }
   ],
   "source": [
    "# Customize the size of the figure\n",
    "figure_layout = {\n",
    "    'width': '400px',\n",
    "    'height': '300px',\n",
    "    'border': '1px solid black',\n",
    "    'padding': '1px',\n",
    "    'margin': '0 auto 0 auto'\n",
    "}\n",
    "fig = gmaps.figure(layout=figure_layout)\n",
    "\n",
    "# Assign the marker layer to a variable\n",
    "markers = gmaps.marker_layer(tuples)\n",
    "# Add the layer to the map\n",
    "fig.add_layer(markers)\n",
    "fig"
   ]
  },
  {
   "cell_type": "code",
   "execution_count": null,
   "metadata": {},
   "outputs": [],
   "source": []
  }
 ],
 "metadata": {
  "kernelspec": {
   "display_name": "Python 3",
   "language": "python",
   "name": "python3"
  },
  "language_info": {
   "codemirror_mode": {
    "name": "ipython",
    "version": 3
   },
   "file_extension": ".py",
   "mimetype": "text/x-python",
   "name": "python",
   "nbconvert_exporter": "python",
   "pygments_lexer": "ipython3",
   "version": "3.7.3"
  }
 },
 "nbformat": 4,
 "nbformat_minor": 4
}
